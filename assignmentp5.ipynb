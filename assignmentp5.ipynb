{
  "nbformat": 4,
  "nbformat_minor": 0,
  "metadata": {
    "colab": {
      "name": "Anamoly Detection.ipynb",
      "provenance": [],
      "toc_visible": true
    },
    "kernelspec": {
      "name": "python3",
      "display_name": "Python 3"
    }
  },
  "cells": [
    {
      "cell_type": "markdown",
      "metadata": {
        "id": "At5qOuOfMJYx",
        "colab_type": "text"
      },
      "source": [
        "# Anamoly Detection\n",
        "\n",
        "* Detecting the unexpected!\n",
        "* Identifying the outliers\n",
        "\n",
        "### Examples\n",
        "\n",
        "* Network Intrusion\n",
        "* Credit Card Fraud\n",
        "* Fault in production pipeline\n",
        "* An epidemic\n",
        "\n",
        "## Can AI help?\n",
        "\n",
        "* The process should be automated\n",
        "* Should happen in real-time\n",
        "\n",
        "\n",
        "#### Important feature/assumption\n",
        "\n",
        "* Anomalies only occur rarely in the data.\n",
        "* Their input features differ from the normal instances significantly.\n",
        "\n",
        "\n",
        "## Task: Identify fraudulent credit card transactions\n",
        "\n",
        "Credit card companies should be able to recognize fraudulent credit card transactions so that customers are not charged for products that they have not purchased.\n",
        "\n",
        "### Dataset\n",
        "\n",
        "We will be using the dataset collected and analysed during a research collaboration of Worldline and the Machine Learning Group (http://mlg.ulb.ac.be) of ULB (Université Libre de Bruxelles) on big data mining and fraud detection. The datasets contains transactions made by credit cards in September 2013 by european cardholders. The dataset is avilable under [open database license](https://opendatacommons.org/licenses/dbcl/1-0/).\n",
        "\n",
        "The dataset presents transactions that occurred in two days, where we have 492 frauds out of 284,807 transactions. The dataset is highly unbalanced, the positive class (frauds) account for 0.172% of all transactions.\n",
        "\n",
        "It contains only numerical input variables which are the result of a PCA transformation. Unfortunately, due to confidentiality issues, we cannot provide the original features and more background information about the data. Features V1, V2, … V28 are the principal components obtained with PCA, the only features which have not been transformed with PCA are 'Time' and 'Amount'. Feature 'Time' contains the seconds elapsed between each transaction and the first transaction in the dataset. The feature 'Amount' is the transaction Amount, this feature can be used for example-dependant cost-senstive learning. Feature 'Class' is the response variable and it takes value 1 in case of fraud and 0 otherwise.\n",
        "\n",
        "\n",
        "Given the class imbalance ratio, we recommend measuring the accuracy using the Area Under the Precision-Recall Curve (AUPRC). Confusion matrix accuracy is not meaningful for unbalanced classification.\n",
        "\n",
        "\n"
      ]
    },
    {
      "cell_type": "markdown",
      "metadata": {
        "id": "lnR2Gv0JXece",
        "colab_type": "text"
      },
      "source": [
        "## Program structure\n",
        "\n",
        "While Jupyter Notebooks are a great way to learn, they are not compatible with production. Thus for making a production ready code, it is important that we follow a structure. \n",
        "To solve this problem we will be following a simple program structure using the concepts of modularity and abstraction.\n",
        "The code is divided in three sections:\n",
        "* **Utility functions**: All the helper functions like downloading data, preprocessing the data, additional plotting functionalities come here. We will call this `util.py`. \n",
        "* **Model definition**: This contains the model that you want to use. We will place this in file `model.py`.\n",
        "* **Main Code**: Finally the code using the utility functions and model will be placed here, where we will do training and later prediction. This code is called `main.py`.\n",
        "\n",
        "![](https://drive.google.com/uc?export=view&id=1aqymDLGBChMZSHcFTVUXjMpb2hT6OklO)\n",
        "\n",
        "We will follow this structure in the example baseline."
      ]
    },
    {
      "cell_type": "code",
      "metadata": {
        "id": "0CIS1qHENFnX",
        "colab_type": "code",
        "colab": {
          "base_uri": "https://localhost:8080/",
          "height": 35
        },
        "outputId": "1d2ef11a-4cd8-4c0f-c81b-389a84710dfe"
      },
      "source": [
        "%%writefile util.py\n",
        "\n",
        "import pandas as pd\n",
        "import numpy as np\n",
        "from sklearn.model_selection import train_test_split\n",
        "from imblearn.over_sampling import SMOTE\n",
        "from sklearn import metrics\n",
        "import matplotlib.pyplot as plt\n",
        "\n",
        "def download_data(url):\n",
        "  '''\n",
        "  The function downloads data from the url and preprocesses it. \n",
        "  The function uses SMOTE to handle class imbalance\n",
        "  Arguments\n",
        "  url: The url link from where to download data\n",
        "  Returns:\n",
        "  X_sm, y_sm:  Balanced training dataset\n",
        "  X_test, y_test: Test dataset \n",
        "  '''\n",
        "  df = pd.read_csv(url)\n",
        "  #creating target series\n",
        "  target = df['Class']\n",
        "\n",
        "  #dropping the target variable from the data set\n",
        "  df.drop('Class',axis=1,inplace=True)\n",
        "\n",
        "  #converting them to numpy arrays\n",
        "  X = np.array(df)\n",
        "  y = np.array(target)\n",
        "\n",
        "  X_train,X_test,y_train,y_test = train_test_split(X,y,test_size=0.25,random_state=1)\n",
        "\n",
        "  ## Handle class imbalance\n",
        "  sm = SMOTE(random_state=2)\n",
        "  X_sm,y_sm = sm.fit_sample(X_train,y_train)\n",
        "\n",
        "  return X_sm, y_sm, X_test, y_test\n",
        "\n",
        "def calculate_metrics(y_test, y_logreg,y_logreg_prob):\n",
        "  '''\n",
        "  The function uses Scikit to calculate metrics for the model. The metrics given are:\n",
        "  * Confusion Matrix\n",
        "  * Accuracy\n",
        "  * Precision\n",
        "  * Recall\n",
        "  * AUC\n",
        "  '''\n",
        "  print(\"Confusion Matrix:\\n\",metrics.confusion_matrix(y_test,y_logreg))\n",
        "  print(\"Accuracy:\\n\",metrics.accuracy_score(y_test,y_logreg))\n",
        "  print(\"Precision:\\n\",metrics.precision_score(y_test,y_logreg))\n",
        "  print(\"Recall:\\n\",metrics.recall_score(y_test,y_logreg))\n",
        "  print(\"AUC:\\n\",metrics.roc_auc_score(y_test,y_logreg_prob))\n",
        "  \n",
        "\n",
        "\n",
        "def save_auc(y_test,y_logreg_prob):\n",
        "  '''\n",
        "  The function saves the AUC curve in a file\n",
        "  '''\n",
        "  auc=metrics.roc_auc_score(y_test,y_logreg_prob)\n",
        "  fpr,tpr,thresholds=metrics.roc_curve(y_test,y_logreg_prob)\n",
        "  plt.plot(fpr,tpr,'b', label='AUC = %0.2f'% auc)\n",
        "  plt.plot([0,1],[0,1],'r-.')\n",
        "  plt.xlim([-0.2,1.2])\n",
        "  plt.ylim([-0.2,1.2])\n",
        "  plt.title('Receiver Operating Characteristic\\nLogistic Regression')\n",
        "  plt.legend(loc='lower right')\n",
        "  plt.ylabel('True Positive Rate')\n",
        "  plt.xlabel('False Positive Rate')\n",
        "  plt.savefig(\"Auc_curve.png\")\n",
        "\n",
        "  \n",
        "\n"
      ],
      "execution_count": 22,
      "outputs": [
        {
          "output_type": "stream",
          "text": [
            "Overwriting util.py\n"
          ],
          "name": "stdout"
        }
      ]
    },
    {
      "cell_type": "code",
      "metadata": {
        "id": "62nqHEcRNI-p",
        "colab_type": "code",
        "colab": {
          "base_uri": "https://localhost:8080/",
          "height": 35
        },
        "outputId": "22dccbdc-6fc0-467a-863e-ea9b36ee46fe"
      },
      "source": [
        "%%writefile model.py\n",
        "\n",
        "import numpy as np\n",
        "from sklearn.linear_model import LogisticRegression\n",
        "def train(X_sm,y_sm):\n",
        "  '''\n",
        "  Function takes in the training data, define aLogistic Regression model\n",
        "  and train the model.\n",
        "  Arguments:\n",
        "  X_sm,y_sm: The taining data with label\n",
        "  Returns\n",
        "  model: The trained model\n",
        "  \n",
        "  '''\n",
        "  #Logistic Regression\n",
        "  model=LogisticRegression()\n",
        "  model.fit(X_sm,y_sm)\n",
        "  return model \n",
        "\n",
        "def predict(X_test,model):\n",
        "  '''\n",
        "  Function predicts the output for a given input array\n",
        "  Arguments\n",
        "  X_test: The input dataset for which you want to predict\n",
        "  model: The trained model\n",
        "  Returns\n",
        "  y_logreg: The output of the trained logistic regressor\n",
        "  y_logreg_prob: The probability/confidence value of the prediction\n",
        "  '''\n",
        "  y_logreg = model.predict(X_test)\n",
        "  y_logreg_prob = model.predict_proba(X_test)[:,1]\n",
        "  return y_logreg, y_logreg_prob\n"
      ],
      "execution_count": 23,
      "outputs": [
        {
          "output_type": "stream",
          "text": [
            "Overwriting model.py\n"
          ],
          "name": "stdout"
        }
      ]
    },
    {
      "cell_type": "code",
      "metadata": {
        "id": "kxaFhEcKPata",
        "colab_type": "code",
        "colab": {
          "base_uri": "https://localhost:8080/",
          "height": 35
        },
        "outputId": "afafe61b-1e9a-446b-ada4-e2a7bab40b8f"
      },
      "source": [
        "%%writefile main.py\n",
        "\n",
        "import numpy as np\n",
        "from util import download_data, calculate_metrics, plot_auc\n",
        "from model import train, predict\n",
        "\n",
        "\n",
        "url = \"https://raw.githubusercontent.com/nsethi31/Kaggle-Data-Credit-Card-Fraud-Detection/master/creditcard.csv\"\n",
        "\n",
        "## read data:\n",
        "X_sm, y_sm, X_test, y_test = download_data(url)\n",
        "\n",
        "#define and train the model:\n",
        "model = train(X_sm, y_sm)\n",
        "\n",
        "# Make predictions\n",
        "y_logreg, y_logreg_prob = predict(X_test,model)\n",
        "\n",
        "#Calculate metrics\n",
        "calculate_metrics(y_test, y_logreg,y_logreg_prob)\n",
        "\n",
        "#Save AUC curve\n",
        "save_auc(y_test,y_logreg_prob)\n"
      ],
      "execution_count": 24,
      "outputs": [
        {
          "output_type": "stream",
          "text": [
            "Overwriting main.py\n"
          ],
          "name": "stdout"
        }
      ]
    },
    {
      "cell_type": "code",
      "metadata": {
        "id": "nlJM_UwiodQU",
        "colab_type": "code",
        "colab": {
          "base_uri": "https://localhost:8080/",
          "height": 88
        },
        "outputId": "f7a70fb0-699f-4c84-af9a-d00390a145ee"
      },
      "source": [
        "!python -W ignore main.py"
      ],
      "execution_count": 25,
      "outputs": [
        {
          "output_type": "stream",
          "text": [
            "Traceback (most recent call last):\n",
            "  File \"main.py\", line 3, in <module>\n",
            "    from util import download_data, calculate_metrics, plot_auc\n",
            "ImportError: cannot import name 'plot_auc'\n"
          ],
          "name": "stdout"
        }
      ]
    },
    {
      "cell_type": "markdown",
      "metadata": {
        "id": "B1A93PhTt1An",
        "colab_type": "text"
      },
      "source": [
        "Let us see the AUC curve obtained\n"
      ]
    },
    {
      "cell_type": "code",
      "metadata": {
        "id": "DIZ-yhlsuPFw",
        "colab_type": "code",
        "colab": {
          "base_uri": "https://localhost:8080/",
          "height": 497
        },
        "outputId": "f5cdab35-998f-4c7c-921b-6666a50df910"
      },
      "source": [
        "from IPython.display import Image\n",
        "Image(filename='Auc_curve.png')"
      ],
      "execution_count": 28,
      "outputs": [
        {
          "output_type": "execute_result",
          "data": {
            "image/png": "[encoded data removed]",
            "text/plain": [
              "<IPython.core.display.Image object>"
            ]
          },
          "metadata": {
            "tags": []
          },
          "execution_count": 28
        }
      ]
    },
    {
      "cell_type": "markdown",
      "metadata": {
        "id": "TLwpnqall3KJ",
        "colab_type": "text"
      },
      "source": [
        "### References\n",
        "\n",
        "* Andrea Dal Pozzolo, Olivier Caelen, Reid A. Johnson and Gianluca Bontempi. Calibrating Probability with Undersampling for Unbalanced Classification. In Symposium on Computational Intelligence and Data Mining (CIDM), IEEE, 2015\n",
        "\n",
        "* Dal Pozzolo, Andrea; Caelen, Olivier; Le Borgne, Yann-Ael; Waterschoot, Serge; Bontempi, Gianluca. Learned lessons in credit card fraud detection from a practitioner perspective, Expert systems with applications,41,10,4915-4928,2014, Pergamon\n",
        "\n",
        "* Dal Pozzolo, Andrea; Boracchi, Giacomo; Caelen, Olivier; Alippi, Cesare; Bontempi, Gianluca. Credit card fraud detection: a realistic modeling and a novel learning strategy, IEEE transactions on neural networks and learning systems,29,8,3784-3797,2018,IEEE\n",
        "\n",
        "* Dal Pozzolo, Andrea Adaptive Machine learning for credit card fraud detection ULB MLG PhD thesis (supervised by G. Bontempi)\n",
        "\n",
        "* Carcillo, Fabrizio; Dal Pozzolo, Andrea; Le Borgne, Yann-Aël; Caelen, Olivier; Mazzer, Yannis; Bontempi, Gianluca. Scarff: a scalable framework for streaming credit card fraud detection with Spark, Information fusion,41, 182-194,2018,Elsevier\n",
        "\n",
        "* Carcillo, Fabrizio; Le Borgne, Yann-Aël; Caelen, Olivier; Bontempi, Gianluca. Streaming active learning strategies for real-life credit card fraud detection: assessment and visualization, International Journal of Data Science and Analytics, 5,4,285-300,2018,Springer International Publishing\n",
        "\n",
        "* Bertrand Lebichot, Yann-Aël Le Borgne, Liyun He, Frederic Oblé, Gianluca Bontempi Deep-Learning Domain Adaptation Techniques for Credit Cards Fraud Detection, INNSBDDL 2019: Recent Advances in Big Data and Deep Learning, pp 78-88, 2019\n",
        "\n",
        "* Fabrizio Carcillo, Yann-Aël Le Borgne, Olivier Caelen, Frederic Oblé, Gianluca Bontempi Combining Unsupervised and Supervised Learning in Credit Card Fraud Detection Information Sciences, 2019"
      ]
    }
  ]
}