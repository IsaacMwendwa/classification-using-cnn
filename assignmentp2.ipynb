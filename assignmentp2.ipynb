{
  "nbformat": 4,
  "nbformat_minor": 0,
  "metadata": {
    "colab": {
      "name": "Exercise_CNN.ipynb",
      "provenance": [],
      "authorship_tag": "ABX9TyPCjkF302CdGlydxriqQ6Gc",
      "include_colab_link": true
    },
    "kernelspec": {
      "name": "python3",
      "display_name": "Python 3"
    },
    "accelerator": "TPU"
  },
  "cells": [
    {
      "cell_type": "markdown",
      "metadata": {
        "id": "view-in-github",
        "colab_type": "text"
      },
      "source": [
        "<a href=\"https://colab.research.google.com/github/amita-kapoor/UO-Artificial-Intelligence-Cloud-and-Edge-Implementations/blob/master/Exercise_CNN.ipynb\" target=\"_parent\"><img src=\"https://colab.research.google.com/assets/colab-badge.svg\" alt=\"Open In Colab\"/></a>"
      ]
    },
    {
      "cell_type": "markdown",
      "metadata": {
        "id": "JB8hpftpgYso",
        "colab_type": "text"
      },
      "source": [
        "# Convolutional Neural Networks\n",
        "\n",
        "Now that we have learned about CNNs, it is time to test our understanding. The aim of this exercise is to ensure :\n",
        "* You know how to add convolutional layers and Dense layers and build a model.\n",
        "* From analyzing the dataset you are able to determine the input shape to the model and number of classes needed to classify the dataset.\n",
        "* Build a baseline model with accuracy > 60%.\n",
        "* Visualize the filters learned by the model and the image as is visible through these filters.\n",
        "* And finally use the techniques (Dropout, Batch Normalization, Data augmentation) you learned to build a better model. \n",
        "\n",
        "The exercise in this notebook are of two types:\n",
        "1. Exercise: You will find four exercises spread through out the notebook. You will write answer to the questions asked in these exercises. They may involve writing a new or completing an existing code sequence.\n",
        "\n",
        "2. TASKS TO DO: These are purely coding assignments, you will use the knowledge you gained to complete the missing code. Missing code is represented by `...` in the notebook. Remove `...` and write the correct statements/values.\n",
        "\n",
        "Wish you all the best.\n",
        "\n",
        "P.S. Do not forget to use GPU if you are working on Colab.\n",
        "\n",
        "\n",
        "\n",
        "\n",
        "\n",
        "\n"
      ]
    },
    {
      "cell_type": "code",
      "metadata": {
        "id": "O7mRoTFp4MEN",
        "colab_type": "code",
        "colab": {}
      },
      "source": [
        "# Load the TensorBoard notebook extension\n",
        "%load_ext tensorboard\n",
        "# Clear out any prior log data.\n",
        "!rm -rf logs\n",
        "\n",
        "\n",
        "# Import necessary modules\n",
        "\n",
        "import tensorflow as tf\n",
        "from tensorflow.keras import datasets, layers, models, optimizers \n",
        "from tensorflow.keras.layers import Convolution2D, MaxPooling2D, Flatten, Dense \n",
        "from tensorflow.keras.utils import plot_model\n",
        "from matplotlib import pyplot as plt\n",
        "import sys\n",
        "import numpy as np"
      ],
      "execution_count": 1,
      "outputs": []
    },
    {
      "cell_type": "markdown",
      "metadata": {
        "id": "F9QzqrBA4KS6",
        "colab_type": "text"
      },
      "source": [
        "# Part 1: Building a model\n",
        "<a id='ex_1'></a>\n",
        "**Exercise 1**  Complete the code below. The `build_model` function has to build a CNN with following arguments:\n",
        "\n",
        "* ***input_shape***: The number of features in the input data\n",
        "* ***filters***: A list containing number of filters in the two convolutional layers.\n",
        "* ***n_hidden***:Number of neurons in the dense layer\n",
        "* ***nb_classes***: Number of output units/classes"
      ]
    },
    {
      "cell_type": "code",
      "metadata": {
        "id": "p9wSUyQygQt4",
        "colab_type": "code",
        "colab": {}
      },
      "source": [
        "# TASK TO DO: Complete the code below\n",
        "def build_model(input_shape, filters, n_hidden, nb_classes):\n",
        "  '''\n",
        "  Function to build a CNN\n",
        "  Arguments:\n",
        "  input_shape: The number of features in the input data\n",
        "  filters: A list containing number of filters in the two convolutional layers.\n",
        "  n_hidden:Number of neurons in the dense layer\n",
        "  nb_classes: Number of output units/classes\n",
        "\n",
        "  Returns:\n",
        "  Returns the CNN model built\n",
        "  '''\n",
        "  model = models.Sequential()\n",
        "  # Add a convolutional layer with filter[0] filters and 3x3 kernel. The activation function be ReLU\n",
        "  model.add(...)\n",
        "  model.add(MaxPooling2D((2, 2)))\n",
        "  # Add a convolutional layer with filter[1] filters and 3x3 kernel. The activation function be ReLU\n",
        "  model.add(...)\n",
        "  model.add(MaxPooling2D((2, 2)))\n",
        "  model.add(Flatten())\n",
        "  # Add a Dense layer with n_hidden number of units and ReLU activation\n",
        "  model.add(... )\n",
        "  # Add a Dense layer with nb_classes number of units and Softmax activation\n",
        "  model.add(...)\n",
        "  return model"
      ],
      "execution_count": 2,
      "outputs": []
    },
    {
      "cell_type": "code",
      "metadata": {
        "id": "mYVkvMdR4V_g",
        "colab_type": "code",
        "colab": {
          "base_uri": "https://localhost:8080/",
          "height": 399
        },
        "outputId": "697296e0-4297-4863-cce2-b7da63042922"
      },
      "source": [
        "# Do not change anything below\n",
        "INPUT_SHAPE = (28,28,1)\n",
        "NUM_CLASSES = 5\n",
        "N_HIDDEN = 100\n",
        "FILTERS = [32,64]\n",
        "cnn_model = build_model(INPUT_SHAPE, FILTERS, N_HIDDEN, NUM_CLASSES)\n",
        "cnn_model.summary()"
      ],
      "execution_count": 3,
      "outputs": [
        {
          "output_type": "stream",
          "text": [
            "Model: \"sequential\"\n",
            "_________________________________________________________________\n",
            "Layer (type)                 Output Shape              Param #   \n",
            "=================================================================\n",
            "conv2d (Conv2D)              (None, 26, 26, 32)        320       \n",
            "_________________________________________________________________\n",
            "max_pooling2d (MaxPooling2D) (None, 13, 13, 32)        0         \n",
            "_________________________________________________________________\n",
            "conv2d_1 (Conv2D)            (None, 11, 11, 64)        18496     \n",
            "_________________________________________________________________\n",
            "max_pooling2d_1 (MaxPooling2 (None, 5, 5, 64)          0         \n",
            "_________________________________________________________________\n",
            "flatten (Flatten)            (None, 1600)              0         \n",
            "_________________________________________________________________\n",
            "dense (Dense)                (None, 100)               160100    \n",
            "_________________________________________________________________\n",
            "dense_1 (Dense)              (None, 5)                 505       \n",
            "=================================================================\n",
            "Total params: 179,421\n",
            "Trainable params: 179,421\n",
            "Non-trainable params: 0\n",
            "_________________________________________________________________\n"
          ],
          "name": "stdout"
        }
      ]
    },
    {
      "cell_type": "markdown",
      "metadata": {
        "id": "1GH0cirb5P1O",
        "colab_type": "text"
      },
      "source": [
        "If you have defined the model correctly you should see a Model with `179,421` traiable parameters.\n",
        "\n",
        "# Part 2: Working with CIFAR 10\n",
        "Let us now use the function  to build a model to classify CIFAR 10 images. \n",
        "\n",
        "### Loading and Pre-processing data"
      ]
    },
    {
      "cell_type": "code",
      "metadata": {
        "id": "vZjUlcd--UBF",
        "colab_type": "code",
        "colab": {}
      },
      "source": [
        "# data: shuffled and split between train and test sets\n",
        "(X_train, y_train), (X_test, y_test) = datasets.cifar10.load_data()"
      ],
      "execution_count": 4,
      "outputs": []
    },
    {
      "cell_type": "code",
      "metadata": {
        "id": "8Uc7twIz-j26",
        "colab_type": "code",
        "colab": {}
      },
      "source": [
        "# Preprocess data\n",
        "# normalize\n",
        "X_train, X_test = X_train / 255.0, X_test / 255.0\n",
        "# convert to categorical\n",
        "# convert class vectors to binary class matrices\n",
        "y_train = tf.keras.utils.to_categorical(y_train, 10)\n",
        "y_test = tf.keras.utils.to_categorical(y_test, 10)"
      ],
      "execution_count": 5,
      "outputs": []
    },
    {
      "cell_type": "markdown",
      "metadata": {
        "id": "2SmPEH8AA7Hn",
        "colab_type": "text"
      },
      "source": [
        "<a id='ex_2'></a>\n",
        "**Exercise 2**: Use the print statement to determine:\n",
        "1. What is the number of rows in image?\n",
        "2. What is the number of columns in  image?\n",
        "3. How many channels are present in the input image?\n",
        "4. What is the number of images in Test and training dataset?\n",
        "\n"
      ]
    },
    {
      "cell_type": "markdown",
      "metadata": {
        "id": "Z76VZhPdC6Qm",
        "colab_type": "text"
      },
      "source": [
        "**Answer** (Double click to edit)"
      ]
    },
    {
      "cell_type": "code",
      "metadata": {
        "id": "eacD_EWiAyeo",
        "colab_type": "code",
        "colab": {
          "base_uri": "https://localhost:8080/",
          "height": 52
        },
        "outputId": "8ec288f8-9b7b-4786-c085-a14daa007017"
      },
      "source": [
        "# TASK TO DO: Complete the code below\n",
        "print(\"The shape of training dataset is: \",... )\n",
        "print(\"The shape of test dataset is: \", ...)"
      ],
      "execution_count": 6,
      "outputs": [
        {
          "output_type": "stream",
          "text": [
            "The shape of training dataset is:  (50000, 32, 32, 3)\n",
            "The shape of test dataset is:  (10000, 32, 32, 3)\n"
          ],
          "name": "stdout"
        }
      ]
    },
    {
      "cell_type": "code",
      "metadata": {
        "id": "b1YDnrRyArZP",
        "colab_type": "code",
        "colab": {}
      },
      "source": [
        "# TASK TO DO: Complete the code below\n",
        "IMG_rows =   ...\n",
        "IMG_cols = ...\n",
        "channel = ...\n",
        "NUM_CLASSES = ...\n",
        "N_HIDDEN = ...\n",
        "FILTERS = [...,...]\n",
        "\n",
        "#Do not change anything below\n",
        "input_shape = (IMG_rows, IMG_cols, channel)\n",
        "cnn_model = build_model(input_shape, FILTERS, N_HIDDEN, NUM_CLASSES)"
      ],
      "execution_count": 7,
      "outputs": []
    },
    {
      "cell_type": "code",
      "metadata": {
        "id": "OLIYlkf-ETlY",
        "colab_type": "code",
        "colab": {}
      },
      "source": [
        "plot_model(cnn_model, show_shapes=True)"
      ],
      "execution_count": null,
      "outputs": []
    },
    {
      "cell_type": "markdown",
      "metadata": {
        "id": "PfSfDrQnTy-L",
        "colab_type": "text"
      },
      "source": [
        "# Part 3: Choosing a baseline model\n",
        "<a id='ex_3'></a>\n",
        "**Exercise 3**: Now that we have a base model choose the Hyperparameters:\n",
        "* OPTIM: The optimizer to be used\n",
        "* BATCH_SIZE: The size of batch for training.\n",
        "* EPOCHS: The number of Epochs\n",
        "\n",
        "You have to find the values such that our base model has accuracy greater than **60%**.  "
      ]
    },
    {
      "cell_type": "markdown",
      "metadata": {
        "id": "sf-_PJPXthxm",
        "colab_type": "text"
      },
      "source": [
        "**Answer**: (Double click to edit)"
      ]
    },
    {
      "cell_type": "code",
      "metadata": {
        "id": "9Mo2i3amEZTN",
        "colab_type": "code",
        "colab": {}
      },
      "source": [
        "# TASK TO DO: Complete the code below\n",
        "# Choose the hyper parameters such that accuracy of the model is greater than 60%\n",
        "OPTIM = ...\n",
        "BATCH_SIZE = ...\n",
        "EPOCHS = ...\n",
        "\n",
        "# Do not change anything below\n",
        "\n",
        "VERBOSE = 1\n",
        "VALIDATION_SPLIT = 0.2\n",
        "\n",
        "## Using Tensorboard\n",
        "callbacks = [# Write TensorBoard logs to `./logs` directory\n",
        "             tf.keras.callbacks.TensorBoard(log_dir='./logs')\n",
        "             ]\n",
        "cnn_model.compile(loss='categorical_crossentropy', optimizer=OPTIM,\n",
        "\tmetrics=['accuracy'])\n",
        " \n",
        "cnn_model.fit(X_train, y_train, batch_size=BATCH_SIZE,\n",
        "\tepochs=EPOCHS, validation_split=VALIDATION_SPLIT, \n",
        "\tverbose=VERBOSE, callbacks=callbacks) "
      ],
      "execution_count": null,
      "outputs": []
    },
    {
      "cell_type": "code",
      "metadata": {
        "id": "Kzncpf2oFRqJ",
        "colab_type": "code",
        "colab": {}
      },
      "source": [
        "# Do not change anything here\n",
        "score = cnn_model.evaluate(X_test, y_test,\n",
        "                     batch_size=BATCH_SIZE, verbose=VERBOSE)\n",
        "print(\"\\nTest score:\", score[0])\n",
        "print('Test accuracy: {:.2f}%'.format(score[1]*100))\n",
        "\n",
        "assert score[1] > 0.6 , \"Accuracy below 60% please change your hyperparameters and retry\""
      ],
      "execution_count": null,
      "outputs": []
    },
    {
      "cell_type": "markdown",
      "metadata": {
        "id": "8a8YY5wSpl6J",
        "colab_type": "text"
      },
      "source": [
        "# Part 4: Visualization\n",
        "\n",
        "Now that you have trained your model for an accuracy greater than 60%, let us visualize what is happening inside the CNN network.  Below we have defined two functions:\n",
        "* `plot_filter` : This funtion allows you to see the kernel learned by each convolutional layer. In our case the first covultional layer has 32 filters for the 3 input channels, making a total of `3*32= 96` filters. Similarly the second convolutional layer will have `32*32= 1024` filters. \n",
        "\n",
        "* `plot_figure`: This function  allows you to see the features selected by each of the filters from a given image. That is it is showing you how the image is visible to the model.\n",
        "\n",
        "**Exercise 4**: There is no coding requirement for this exercise, you just need to run the cells below and comment on the output. \n"
      ]
    },
    {
      "cell_type": "markdown",
      "metadata": {
        "id": "DPlCkMaNtRag",
        "colab_type": "text"
      },
      "source": [
        "**Answer**: (Double click to edit)"
      ]
    },
    {
      "cell_type": "code",
      "metadata": {
        "id": "J3Bp3qFQcngF",
        "colab_type": "code",
        "colab": {}
      },
      "source": [
        "# Do not change anything below\n",
        "def plot_filter(filters, fig_size = (40,40)):\n",
        "  cols = filters.shape[3]\n",
        "  rows = filters.shape[2]\n",
        "  #print(rows,cols)\n",
        "  fig = plt.figure(figsize=fig_size)\n",
        "  ix = 1\n",
        "  for i in range(filters.shape[3]):\n",
        "    f = filters[:,:,:,i]\n",
        "    for j in range(filters.shape[2]):\n",
        "      ax = fig.add_subplot(rows, cols, ix)\n",
        "      ax.axis('off')\n",
        "      plt.imshow(f[:,:,j], cmap='gray')\n",
        "      ix += 1\n",
        "  "
      ],
      "execution_count": 11,
      "outputs": []
    },
    {
      "cell_type": "code",
      "metadata": {
        "id": "qBS3a0lmlOC6",
        "colab_type": "code",
        "colab": {}
      },
      "source": [
        "# Do not change anything below\n",
        "def plot_image(model,filters, layer_name, img, fig_size=(40,40)):\n",
        "  img = np.reshape(img, (1, img.shape[0], img.shape[1], img.shape[2]))\n",
        "  intermediate_layer_model = models.Model(inputs=model.input, outputs=model.get_layer(layer_name).output)\n",
        "  intermediate_output = intermediate_layer_model.predict(img)\n",
        "  print(intermediate_output.shape)\n",
        "  output = np.squeeze(intermediate_output)\n",
        "  output = np.moveaxis(output, 2, 0)\n",
        "  print(output.shape)\n",
        "  fig = plt.figure(figsize=(40, 40))\n",
        "  no_filters = filters.shape[3]\n",
        "\n",
        "  cols = filters.shape[3]\n",
        "  rows = filters.shape[2]\n",
        "\n",
        "  for i in range(output.shape[0]):\n",
        "    ax = fig.add_subplot(rows, cols, i+1)\n",
        "    ax.axis('off')\n",
        "    plt.imshow(output[i], cmap='gray')\n"
      ],
      "execution_count": 12,
      "outputs": []
    },
    {
      "cell_type": "code",
      "metadata": {
        "id": "uAk1RD_SbCBf",
        "colab_type": "code",
        "colab": {}
      },
      "source": [
        "# summarize filter shapes\n",
        "filters = []\n",
        "layers_name = []\n",
        "for layer in cnn_model.layers:\n",
        "  # check for convolutional layer\n",
        "  if 'conv' not in layer.name:\n",
        "    continue\n",
        "  # get filter weights\n",
        "  filter_, _ = layer.get_weights()\n",
        "  filters.append(filter_)\n",
        "  layers_name.append(layer.name)\n",
        "  print(layer.name, filter_.shape)\n",
        "# Let us plot the filters of the first Convolutional layer\n",
        "plot_filter(filters[0],(20,3))"
      ],
      "execution_count": null,
      "outputs": []
    },
    {
      "cell_type": "code",
      "metadata": {
        "id": "a0sgmsQ-kwW4",
        "colab_type": "code",
        "colab": {}
      },
      "source": [
        "img = X_train[7]\n",
        "plt.imshow(img)\n",
        "# Image as seen by first Convolutional layer\n",
        "plot_image(cnn_model,filters[0], layers_name[0], img)"
      ],
      "execution_count": null,
      "outputs": []
    },
    {
      "cell_type": "markdown",
      "metadata": {
        "id": "II6t1v-ha_Q3",
        "colab_type": "text"
      },
      "source": [
        "Below you can use the TensorBoard to see the details of the training."
      ]
    },
    {
      "cell_type": "code",
      "metadata": {
        "id": "NKLLDVXtis_e",
        "colab_type": "code",
        "colab": {}
      },
      "source": [
        "%tensorboard --logdir logs"
      ],
      "execution_count": null,
      "outputs": []
    },
    {
      "cell_type": "markdown",
      "metadata": {
        "id": "q9aTUdABx4xC",
        "colab_type": "text"
      },
      "source": [
        "# Part 5: Building a model from scratch\n",
        "\n",
        "**Exercise 5**:  Now that you have a baseline model, use the techniques like Droput, BatchNormalization and/or Data Augmentation to improve the accuracy of the model. You need to build a model with a minimum accuacy of 80%.\n"
      ]
    },
    {
      "cell_type": "code",
      "metadata": {
        "id": "sf6YUFOk5XHO",
        "colab_type": "code",
        "colab": {}
      },
      "source": [
        "## TASK TO DO: Complete the code below\n",
        "# Write a function to build your own CNN model \n",
        "def build_your_model():\n",
        "  ..."
      ],
      "execution_count": 16,
      "outputs": []
    },
    {
      "cell_type": "code",
      "metadata": {
        "id": "fVvy9zeqyksX",
        "colab_type": "code",
        "colab": {}
      },
      "source": [
        "new_model = build_your_model(input_shape, FILTERS, N_HIDDEN, NUM_CLASSES)\n",
        "new_model.summary()"
      ],
      "execution_count": null,
      "outputs": []
    },
    {
      "cell_type": "code",
      "metadata": {
        "id": "kVp-gPQXyxbk",
        "colab_type": "code",
        "colab": {}
      },
      "source": [
        "## TASK TO DO: Complete the code below\n",
        "# Define Optimizers and train the model\n",
        "\n",
        "new_model.compile(...)\n",
        "new_model.fit(...)"
      ],
      "execution_count": null,
      "outputs": []
    },
    {
      "cell_type": "code",
      "metadata": {
        "id": "u1zuJbdyzP3X",
        "colab_type": "code",
        "colab": {}
      },
      "source": [
        "# Let us now evaluate you model\n",
        "# Do not change anything here\n",
        "score = new_model.evaluate(X_test, y_test,\n",
        "                     batch_size=BATCH_SIZE, verbose=VERBOSE)\n",
        "print(\"\\nTest score:\", score[0])\n",
        "print('Test accuracy: {:.2f}%'.format(score[1]*100))\n",
        "\n",
        "assert score[1] > 0.8 , \"Accuracy below 80% model not acceptable\""
      ],
      "execution_count": null,
      "outputs": []
    },
    {
      "cell_type": "markdown",
      "metadata": {
        "id": "y2R4FvfBzqzF",
        "colab_type": "text"
      },
      "source": [
        "# Part 6: Optional Exercise\n",
        "\n",
        "You can use the `plot_filter` and `plot_image` functions as well as TensorBoard to visualize results. Explore all the layers and reflect on what you understand."
      ]
    }
  ]
}