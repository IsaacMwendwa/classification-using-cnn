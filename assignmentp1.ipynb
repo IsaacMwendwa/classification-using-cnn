{
 "cells": [
  {
   "cell_type": "markdown",
   "metadata": {
    "colab_type": "text",
    "id": "view-in-github"
   },
   "source": [
    "<a href=\"https://colab.research.google.com/github/amita-kapoor/UO-Artificial-Intelligence-Cloud-and-Edge-Implementations/blob/master/Excercise_Classification.ipynb\" target=\"_parent\"><img src=\"https://colab.research.google.com/assets/colab-badge.svg\" alt=\"Open In Colab\"/></a>"
   ]
  },
  {
   "cell_type": "markdown",
   "metadata": {
    "colab_type": "text",
    "id": "rZDq2nwZp2dv"
   },
   "source": [
    "## Classification Exercises\n",
    "\n",
    "For these exercises use the GPU in Google Colab. To enable GPU go to top menu bar in **EDIT** menu go to **NoteBook Settings**. Once you click it a window opens, in the hardware accelerator dropdown menu choose GPU. \n",
    "\n",
    "![alt](https://drive.google.com/uc?id=1rZf9pvb5rqY4rFwYqUhdmPkSrzaXBhPg)\n",
    "\n",
    "### Introduction\n",
    "\n",
    "We have already learned about Neural Networks and discussed Multilayered Perceptrons in depth. In this exercise, we will be testing our understanding of the underlying concepts with special emphasis to [Hyperparameter tuning](https://towardsdatascience.com/understanding-hyperparameters-and-its-optimisation-techniques-f0debba07568). \n",
    "\n",
    "After doing these exercises, you would be able to better understand:\n",
    "\n",
    "* The architecture of a neural network\n",
    "* The parameters (training) of a neural network and how they change with changing architecture.\n",
    "* Hyperparameter tuning: batch size, number of hidden units and optimizers.\n",
    "\n",
    "We encourage you to work with other hyperparameters as well like learning rate, number of layers, activation functions etc.  And in the end there is an optional exercise, where you can see if what you observe for the MNIST dataset is true for other dataset as well.\n",
    "\n",
    "The Notebook is divided in three parts: Building the Model, Reading the dataset and Hyperparameters. It contains five exercises in total and one additional optional exercise:\n",
    "\n",
    "* [Exercise 1](#ex_1)\n",
    "* [Exercise 2](#ex_2)\n",
    "* [Exercise 3](#ex_3)\n",
    "* [Exercise 4](#ex_4)\n",
    "* [Exercise 5](#ex_5)\n",
    "* [Optional Exercise](#ex_O)\n",
    "\n",
    "\n",
    "You have to do all the five exercises. Run the code given with each exercise and write down your answer just below each exercise. Wish you all the best.\n",
    "\n",
    "\n",
    "### Part 1: Building the model\n",
    "Below we define a function to built a neural network model using TensorFlow Keras. "
   ]
  },
  {
   "cell_type": "code",
   "execution_count": 0,
   "metadata": {
    "colab": {},
    "colab_type": "code",
    "id": "3mhZ0xlMRqO6"
   },
   "outputs": [],
   "source": [
    "import tensorflow as tf\n",
    "import numpy as np\n",
    "from tensorflow import keras\n",
    "\n",
    "def built_model(input_shape, n_hidden, nb_classes, optimizer='SGD'):\n",
    "  '''\n",
    "  The function builds a fully connected neural network with two hidden layers\n",
    "  Arguments:\n",
    "  input_shape: The number of inputs to the neural network\n",
    "  n_hidden: Number of hidden neurons in the hidden layers\n",
    "  nb_classes: Number of neurons in the output layer\n",
    "  optimizer: The optimizer used to train the model. \n",
    "  By default we use Stochastic Gradient Descent.\n",
    "  \n",
    "  Returns:\n",
    "  The function returns A model with loss and optimizer defined\n",
    "  '''  \n",
    "  model = tf.keras.models.Sequential()\n",
    "  ## First Hidden layer  \n",
    "  model.add(keras.layers.Dense(n_hidden,\n",
    "       input_shape=(input_shape,),\n",
    "       name='dense_layer', activation='relu'))\n",
    "    \n",
    "  ## Second Hidden Layer\n",
    "  model.add(keras.layers.Dense(n_hidden,\n",
    "        name='dense_layer_2', activation='relu'))\n",
    "    \n",
    "  ## Output Layer  \n",
    "  model.add(keras.layers.Dense(nb_classes,\n",
    "        name='dense_layer_3', activation='softmax'))\n",
    "    \n",
    "  ## Define loss and optimizer \n",
    "  model.compile(optimizer=optimizer, \n",
    "              loss='categorical_crossentropy',\n",
    "              metrics=['accuracy'])\n",
    "  return model\n"
   ]
  },
  {
   "cell_type": "markdown",
   "metadata": {
    "colab_type": "text",
    "id": "q5E0fCSDrwu_"
   },
   "source": [
    "<a id='ex_1'></a>\n",
    "**Exercise 1** What should be the values of the arguments `INPUT_SHAPE`: the number of input units, `N_HIDDEN`: the number of hidden units, and `NB_CLASSES`: the number of output units, if we want to build a model using `built_model` function with the specifications given in the figure:\n",
    "\n",
    "![](https://drive.google.com/uc?id=1pcj2sHJK6CmhMjUo43AMNBxnU4ixQne3)\n",
    "\n",
    "\n",
    "\n",
    "To build this network we used TensorFlow Keras `plot_model` function available in `utils` model. You can learn more about the function from [TensorFlow docs](https://www.tensorflow.org/api_docs/python/tf/keras/utils/plot_model). "
   ]
  },
  {
   "cell_type": "code",
   "execution_count": null,
   "metadata": {
    "colab": {},
    "colab_type": "code",
    "id": "sBfRdV8ARuCe"
   },
   "outputs": [],
   "source": [
    "# Task to do\n",
    "INPUT_SHAPE = #?\n",
    "N_HIDDEN = #?\n",
    "NB_CLASSES = #?  \n",
    "\n",
    "\n",
    "## Do not change anything below\n",
    "assert(INPUT_SHAPE == 5), \"Input shape incorrect\"\n",
    "assert(N_HIDDEN == 10), \"Number of hidden neurons incorrect\"\n",
    "assert(NB_CLASSES == 2), \"Number of output units incorrect\""
   ]
  },
  {
   "cell_type": "code",
   "execution_count": 0,
   "metadata": {
    "colab": {},
    "colab_type": "code",
    "id": "s00urUTcqfZR"
   },
   "outputs": [],
   "source": [
    "model = built_model(INPUT_SHAPE, N_HIDDEN,NB_CLASSES)"
   ]
  },
  {
   "cell_type": "markdown",
   "metadata": {
    "colab_type": "text",
    "id": "mTccrPMNyZF5"
   },
   "source": [
    "<a id='ex_2'></a>\n",
    "**Exercise 2** Based on the input, hidden and output units what are the total number of trainable parameters in this model?"
   ]
  },
  {
   "cell_type": "code",
   "execution_count": 0,
   "metadata": {
    "colab": {},
    "colab_type": "code",
    "id": "3DchkRcAyXM6"
   },
   "outputs": [],
   "source": [
    "# Task to do\n",
    "trainable_parameters = #?\n",
    "\n",
    "## Do not change anything below\n",
    "assert trainable_parameters==model.count_params(), \"Your answer is incorrect\"\n",
    "print(\"Number of trainable parameters in the model are\", trainable_parameters)"
   ]
  },
  {
   "cell_type": "markdown",
   "metadata": {
    "colab_type": "text",
    "id": "g33IqZrGzLeW"
   },
   "source": [
    "Good work! Let us now visualize the summary of the model created. "
   ]
  },
  {
   "cell_type": "code",
   "execution_count": 0,
   "metadata": {
    "colab": {},
    "colab_type": "code",
    "id": "f4OteoBfx_QH"
   },
   "outputs": [],
   "source": [
    "model.summary()"
   ]
  },
  {
   "cell_type": "markdown",
   "metadata": {
    "colab_type": "text",
    "id": "2qeqEE5A3MQl"
   },
   "source": [
    "### Part 2: Reading the dataset\n",
    "\n",
    "We will continue with the MNIST dataset. \n",
    "\n",
    "###### Just run the cells in this part of the notebook. Do not change anything."
   ]
  },
  {
   "cell_type": "code",
   "execution_count": 0,
   "metadata": {
    "colab": {},
    "colab_type": "code",
    "id": "D3OEjwzLyBoO"
   },
   "outputs": [],
   "source": [
    "mnist = keras.datasets.mnist\n",
    "(X_train, Y_train), (X_test, Y_test) = mnist.load_data()"
   ]
  },
  {
   "cell_type": "code",
   "execution_count": 0,
   "metadata": {
    "colab": {},
    "colab_type": "code",
    "id": "94uZnloL4-lB"
   },
   "outputs": [],
   "source": [
    "# Processing the data\n",
    "assert(len(X_train.shape)==3), \"The input data is not of the right shape\"\n",
    "RESHAPED = X_train.shape[1]*X_train.shape[2]\n",
    "\n",
    "X_train = X_train.reshape(60000, RESHAPED)\n",
    "X_test = X_test.reshape(10000, RESHAPED)\n",
    "X_train = X_train.astype('float32')\n",
    "X_test = X_test.astype('float32')"
   ]
  },
  {
   "cell_type": "code",
   "execution_count": 0,
   "metadata": {
    "colab": {},
    "colab_type": "code",
    "id": "BJIMT6sT5Wtd"
   },
   "outputs": [],
   "source": [
    "# Data Normalization\n",
    "X_train, X_test = X_train / 255.0, X_test / 255.0\n",
    "print(X_train.shape[0], 'train samples')\n",
    "print(X_test.shape[0], 'test samples')"
   ]
  },
  {
   "cell_type": "markdown",
   "metadata": {
    "colab_type": "text",
    "id": "HIRrNUTj4h_R"
   },
   "source": [
    "For the MNIST dataset the number of input and number of output units are fixed. However we can choose different values of hidden units. "
   ]
  },
  {
   "cell_type": "code",
   "execution_count": 0,
   "metadata": {
    "colab": {},
    "colab_type": "code",
    "id": "si1FflpL3_hj"
   },
   "outputs": [],
   "source": [
    "INPUT_SHAPE = RESHAPED\n",
    "NB_CLASSES = len(set(Y_train))"
   ]
  },
  {
   "cell_type": "code",
   "execution_count": 0,
   "metadata": {
    "colab": {},
    "colab_type": "code",
    "id": "ISwN58Q48a03"
   },
   "outputs": [],
   "source": [
    "# one-hot encode\n",
    "Y_train = tf.keras.utils.to_categorical(Y_train, NB_CLASSES)\n",
    "Y_test = tf.keras.utils.to_categorical(Y_test, NB_CLASSES)"
   ]
  },
  {
   "cell_type": "markdown",
   "metadata": {
    "colab_type": "text",
    "id": "-gjEx-hQ6Xsv"
   },
   "source": [
    "### Part 3: Hyperparameters\n",
    "\n",
    "<a id='ex_3'></a>\n",
    "**Exercise 3:** The aim of this exercise is to understand the affect of changing number of hidden units on the model performance. Change the number of hidden units, and train the model. Compare the model performance in terms of accuracy. What do you understand from this?"
   ]
  },
  {
   "cell_type": "markdown",
   "metadata": {
    "colab_type": "text",
    "id": "MWggLtWe7MUR"
   },
   "source": [
    "**Answer** Please type your answer here (Double click to edit)"
   ]
  },
  {
   "cell_type": "code",
   "execution_count": 0,
   "metadata": {
    "colab": {},
    "colab_type": "code",
    "id": "qscy8jLk6BEA"
   },
   "outputs": [],
   "source": [
    "# Task to do choose different values for number of hidden units (minimum five different values)\n",
    "N_HIDDEN = #? Choose a value"
   ]
  },
  {
   "cell_type": "code",
   "execution_count": 0,
   "metadata": {
    "colab": {},
    "colab_type": "code",
    "id": "9yG8aKH37krD"
   },
   "outputs": [],
   "source": [
    "## Do not change anything below\n",
    "model = built_model(INPUT_SHAPE,N_HIDDEN, NB_CLASSES)\n",
    "history = model.fit(X_train, Y_train,\n",
    "\t\tbatch_size=128, epochs=50,\n",
    "\t\tverbose=1, validation_split=0.2)\n",
    "\n",
    "# Evaluate the model\n",
    "test_loss, test_acc = model.evaluate(X_test, Y_test)\n",
    "print('Test accuracy: {:.2f} %'.format(test_acc*100))"
   ]
  },
  {
   "cell_type": "markdown",
   "metadata": {
    "colab_type": "text",
    "id": "cqfMXnlJA02g"
   },
   "source": [
    "<a id='ex_4'></a>\n",
    "**Exercise 4:** Let us now repeat the same after changing the batch size (minimum 5 different values). Compare the model performance in terms of accuracy. What do you understand from this?"
   ]
  },
  {
   "cell_type": "markdown",
   "metadata": {
    "colab_type": "text",
    "id": "9z0TctxjB0KA"
   },
   "source": [
    "**Answer** Please type your answer here (Double click to edit)"
   ]
  },
  {
   "cell_type": "code",
   "execution_count": 0,
   "metadata": {
    "colab": {},
    "colab_type": "code",
    "id": "TXO0QZtS_mQ_"
   },
   "outputs": [],
   "source": [
    "# Task to do choose different values for batch size (minimum five different values)\n",
    "BATCH_SIZE =   #? Choose a value"
   ]
  },
  {
   "cell_type": "code",
   "execution_count": 0,
   "metadata": {
    "colab": {},
    "colab_type": "code",
    "id": "S1CVvMthBmWr"
   },
   "outputs": [],
   "source": [
    "## Do not change anything below\n",
    "model = built_model(INPUT_SHAPE,128, NB_CLASSES)\n",
    "history = model.fit(X_train, Y_train,\n",
    "\t\tbatch_size=BATCH_SIZE, epochs=50,\n",
    "\t\tverbose=1, validation_split=0.2)\n",
    "# Evaluate the model\n",
    "test_loss, test_acc = model.evaluate(X_test, Y_test)\n",
    "print('Test accuracy: {:.2f} %'.format(test_acc*100))"
   ]
  },
  {
   "cell_type": "markdown",
   "metadata": {
    "colab_type": "text",
    "id": "8L802oqkCBg8"
   },
   "source": [
    "<a id='ex_5'></a>\n",
    "**Exercise 5:** And now we do the same with different [optimizers](https://www.tensorflow.org/api_docs/python/tf/keras/optimizers) available in TensorFlow. Change the optimizers and compare the model performance in terms of accuracy. What do you understand from this?"
   ]
  },
  {
   "cell_type": "markdown",
   "metadata": {
    "colab_type": "text",
    "id": "1M0Dx7O2CEW8"
   },
   "source": [
    "**Answer** Please type your answer here (Double click to edit)"
   ]
  },
  {
   "cell_type": "code",
   "execution_count": 0,
   "metadata": {
    "colab": {},
    "colab_type": "code",
    "id": "2DsZiC8CB7j5"
   },
   "outputs": [],
   "source": [
    "# Task to do choose different optimizers\n",
    "opt =   #? Choose from available optimizers"
   ]
  },
  {
   "cell_type": "code",
   "execution_count": 0,
   "metadata": {
    "colab": {},
    "colab_type": "code",
    "id": "DkcTxGl4CqK5"
   },
   "outputs": [],
   "source": [
    "## Do not change anything below\n",
    "N_HIDDEN = 128\n",
    "model = built_model(INPUT_SHAPE,N_HIDDEN, NB_CLASSES, opt)\n",
    "history = model.fit(X_train, Y_train,\n",
    "\t\tbatch_size=128, epochs=50,\n",
    "\t\tverbose=1, validation_split=0.2)\n",
    "\n",
    "# Evaluate the model\n",
    "test_loss, test_acc = model.evaluate(X_test, Y_test)\n",
    "print('Test accuracy: {:.2f} %'.format(test_acc*100))"
   ]
  },
  {
   "cell_type": "markdown",
   "metadata": {
    "colab_type": "text",
    "id": "-46TwuMnDdIB"
   },
   "source": [
    "<a id='ex_O'></a>\n",
    "### Optional Exercise: Fashion MNIST\n",
    "\n",
    "Repeat the above exercises (3-5) with different dataset. You can use Fashion MNIST another popular ML dataset. Are the results same? Comment.\n",
    "\n",
    "To download fashion mnist you can use the following code:\n",
    "\n",
    "```\n",
    "fashion_mnist = keras.datasets.fashion_mnist\n",
    "\n",
    "(X_train, Y_train), (X_test, Y_test) = fashion_mnist.load_data()\n",
    "```"
   ]
  },
  {
   "cell_type": "code",
   "execution_count": 0,
   "metadata": {
    "colab": {},
    "colab_type": "code",
    "id": "kqc0ID8XDLCN"
   },
   "outputs": [],
   "source": []
  }
 ],
 "metadata": {
  "accelerator": "GPU",
  "colab": {
   "authorship_tag": "ABX9TyOxjy4ifO7MzF+LmNjobnD7",
   "include_colab_link": true,
   "mount_file_id": "1Hx2OjLbdwQKQNrKt-HhXtRJo2h5VoOwR",
   "name": "Excercise_Classification.ipynb",
   "provenance": [],
   "toc_visible": true
  },
  "kernelspec": {
   "display_name": "Python 3",
   "language": "python",
   "name": "python3"
  },
  "language_info": {
   "codemirror_mode": {
    "name": "ipython",
    "version": 3
   },
   "file_extension": ".py",
   "mimetype": "text/x-python",
   "name": "python",
   "nbconvert_exporter": "python",
   "pygments_lexer": "ipython3",
   "version": "3.7.4"
  }
 },
 "nbformat": 4,
 "nbformat_minor": 1
}
